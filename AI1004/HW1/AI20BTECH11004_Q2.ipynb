{
 "cells": [
  {
   "cell_type": "code",
   "execution_count": 1,
   "source": [
    "##############################################\n",
    "# Program to illustrate the K-means algorithm\n",
    "# Author: Sumohana Channappayya\n",
    "##############################################\n",
    "# Import all required libraries\n",
    "import numpy as np\n",
    "from matplotlib import pyplot as plt"
   ],
   "outputs": [],
   "metadata": {
    "id": "Rcpf9a1i5t8y"
   }
  },
  {
   "cell_type": "code",
   "execution_count": 2,
   "source": [
    "#function to calculate distance vector containing all the distances\n",
    "def distance_vector(cur_y,D,k,p):\n",
    "    dist_vector = []\n",
    "\n",
    "    for i in range(k):\n",
    "        d = 0\n",
    "        for j in range(p):\n",
    "            d = d + np.square(cur_y[j] - D[j,i]) \n",
    "        dist_vector.append(d)\n",
    "    return dist_vector"
   ],
   "outputs": [],
   "metadata": {}
  },
  {
   "cell_type": "code",
   "execution_count": 3,
   "source": [
    "#function to calculate error\n",
    "def err(update,D,k,p):\n",
    "    error = 0\n",
    "    sum = 0\n",
    "    for i in range(k):\n",
    "        for j in range(p):\n",
    "            sum = sum + np.square(update[i,j] - D[j,i])\n",
    "    error = np.sqrt(sum)\n",
    "    return error"
   ],
   "outputs": [],
   "metadata": {}
  },
  {
   "cell_type": "code",
   "execution_count": 4,
   "source": [
    "# NOTE: This code is written specifically for the case K = 4 and data dimension p = 2\n",
    "# You will have to update this to handle the general case\n",
    "\n",
    "# First generate random numbers\n",
    "# For illustration, we will generate 2-D points\n",
    "# Specifically, four clusters from 2-D Gaussian distribution\n",
    "NUM_PTS = 2000\n",
    "\n",
    "#choose K and p\n",
    "k = 6\n",
    "p = 2\n",
    "\n",
    "#Generate clusters\n",
    "Y = np.empty((p,0),float)\n",
    "exp_cent = []\n",
    "for i in range(k):\n",
    "    mean =  np.random.randint(low=-k/4,high=k/4+1,size=(p,)) \n",
    "    A = np.random.uniform(low=0,high=0.2,size=(p,p))\n",
    "    cov = np.diag(np.diag(A))\n",
    "    temp = np.random.multivariate_normal(mean, cov, NUM_PTS).T\n",
    "    Y = np.concatenate((Y,temp),axis=1)\n",
    "    exp_cent.append(mean)\n",
    "\n",
    "# Display the data\n",
    "# plt.plot(Y[0,:], Y[1,:],'x')\n",
    "# plt.axis('equal')\n",
    "# plt.grid(True)\n",
    "# plt.xlabel('y1')\n",
    "# plt.ylabel('y2')\n",
    "# plt.title('K-means demo')\n",
    "# plt.show()"
   ],
   "outputs": [],
   "metadata": {
    "colab": {
     "base_uri": "https://localhost:8080/",
     "height": 295
    },
    "id": "tsxilbAt5t8z",
    "outputId": "74473e37-c9dd-42f8-c299-d70686f31fe8"
   }
  },
  {
   "cell_type": "code",
   "execution_count": 5,
   "source": [
    "# NOTE: This code is written specifically for the case K = 4 and data dimension p = 2\n",
    "# You will have to update this to handle the general case\n",
    "\n",
    "# Now start the algorithm\n",
    "# Set stopping condition \n",
    "epsilon = 0.001\n",
    "# Initialize error to a large value\n",
    "error = 10000\n",
    "# Initialize centroids - assume K of them from a Mutivariate Gaussian distribution \n",
    "mean = np.ones((p,),float)\n",
    "cov = np.ones((p,p),float)\n",
    "cov = np.diag(np.diag(cov))\n",
    "D = np.random.multivariate_normal(mean, cov, k).T \n",
    "# Plot centroids\n",
    "# plt.plot(Y[0,:], Y[1,:],'x')\n",
    "# plt.axis('equal')\n",
    "# plt.grid(True)\n",
    "# plt.xlabel('y1')\n",
    "# plt.ylabel('y2')\n",
    "# plt.plot(D[0,:], D[1,:],'r+')\n",
    "# plt.show()"
   ],
   "outputs": [],
   "metadata": {
    "colab": {
     "base_uri": "https://localhost:8080/",
     "height": 279
    },
    "id": "Ou74raKH5t80",
    "outputId": "a92c2c57-f891-4b7d-f3d6-98bc2f016fc3"
   }
  },
  {
   "cell_type": "code",
   "execution_count": 6,
   "source": [
    "# NOTE: This code is written specifically for the case K = 4 and data dimension p = 2\n",
    "# You will have to update this to handle the general case\n",
    "# Initialize iteration count to 0\n",
    "count = 0\n",
    "# Initialize cluster size to 0\n",
    "while (error > epsilon):\n",
    "    num = np.zeros((k,),float)\n",
    "    # Initialize centroid update to 0\n",
    "    update = np.zeros((k,p),float)\n",
    "    # Update clusters based on distance\n",
    "    for idx in range(k*NUM_PTS):\n",
    "        cur_y = Y[:,idx]\n",
    "        # NOTE: There are more efficient ways of computing distances and norms.\n",
    "        # This code is just for illustration and in no way optimized.\n",
    "\n",
    "        # Find Euclidean distance of current point from each centroid\n",
    "        \n",
    "        dist_vector = distance_vector(cur_y,D,k,p)\n",
    "\n",
    "        # Find closest centroid \n",
    "        min_idx = dist_vector.index(np.min(dist_vector))\n",
    "\n",
    "        for j in range(p):\n",
    "            update[min_idx][j]+=cur_y[j]\n",
    "\n",
    "        num[min_idx]+=1\n",
    "    \n",
    "    # NOTE: The divide by zero case has to be handled gracefully\n",
    "    # Calculate centroids\n",
    "    # x1 = x1/num1; y1 = y1/num1\n",
    "    # x2 = x2/num2; y2 = y2/num2\n",
    "    # x3 = x3/num3; y3 = y3/num3\n",
    "    # x4 = x4/num4; y4 = y4/num4\n",
    "    for i in range(k):\n",
    "        for j in range(p):\n",
    "            if(num[i]>0):\n",
    "                update[i][j] = update[i][j]/num[i]\n",
    "    # Compute distance between centroids\n",
    "    # error = np.sqrt((np.square(x1 - D[0,0]) + np.square(y1 - D[1,0])) + (np.square(x2 - D[0,1]) + np.square(y2 - D[1,1])) + (np.square(x3 - D[0,2]) + np.square(y3 - D[1,2])) + (np.square(x4 - D[0,3]) + np.square(y4 - D[1,3])))\n",
    "    error = err(update,D,k,p)\n",
    "    # Update centroids\n",
    "    # D[0, 0] = x1; D[1, 0] = y1\n",
    "    # D[0, 1] = x2; D[1, 1] = y2\n",
    "    # D[0, 2] = x3; D[1, 2] = y3\n",
    "    # D[0, 3] = x4; D[1, 3] = y4\n",
    "    for i in range(k):\n",
    "        for j in range(p):\n",
    "            D[j,i] = update[i,j]\n",
    "\n",
    "    # Update count\n",
    "    count += 1\n",
    "    \n",
    "    #Plot updated centroids\n",
    "    \n",
    "    # plt.plot(Y[0,:], Y[1,:],'x')\n",
    "    # plt.axis('equal')\n",
    "    # plt.grid(True)\n",
    "    # plt.plot(D[0,:], D[1,:],'r+')\n",
    "    # plt.pause(1)\n",
    "    # plt.ion()\n",
    "    # plt.show()\n",
    "\n",
    "    # Print error\n",
    "\n",
    "    print ('Iteration: ', count, 'Error: ', error)\n",
    "\n",
    "# Print centroids\n",
    "\n",
    "print ('Centroids:')\n",
    "for i in range(k):\n",
    "    print(D[:,i])\n",
    "print ('Expected centroids :')\n",
    "for i in range(k):\n",
    "    print(exp_cent[i])"
   ],
   "outputs": [
    {
     "output_type": "stream",
     "name": "stdout",
     "text": [
      "Iteration:  1 Error:  1.3073613324034719\n",
      "Iteration:  2 Error:  0.5467382363700163\n",
      "Iteration:  3 Error:  0.2955620364471244\n",
      "Iteration:  4 Error:  0.28971826833851716\n",
      "Iteration:  5 Error:  0.32955862563101773\n",
      "Iteration:  6 Error:  0.27165989004713736\n",
      "Iteration:  7 Error:  0.3109570920412029\n",
      "Iteration:  8 Error:  0.23440245230802823\n",
      "Iteration:  9 Error:  0.1423457787651052\n",
      "Iteration:  10 Error:  0.09070722871506874\n",
      "Iteration:  11 Error:  0.05754341263833031\n",
      "Iteration:  12 Error:  0.0369723093042566\n",
      "Iteration:  13 Error:  0.023924949972887716\n",
      "Iteration:  14 Error:  0.01647259920848211\n",
      "Iteration:  15 Error:  0.011345997723481854\n",
      "Iteration:  16 Error:  0.008742603600588298\n",
      "Iteration:  17 Error:  0.004957052867431524\n",
      "Iteration:  18 Error:  0.004338833779338352\n",
      "Iteration:  19 Error:  0.004103818289891901\n",
      "Iteration:  20 Error:  0.002353030682559319\n",
      "Iteration:  21 Error:  0.0017583569853842787\n",
      "Iteration:  22 Error:  0.0004115932326733517\n",
      "Centroids:\n",
      "[-0.69031998  1.01939044]\n",
      "[ 0.93277896 -0.15341776]\n",
      "[1.00243365 0.64901175]\n",
      "[-1.32317451  0.97138169]\n",
      "[0.99089094 1.2342535 ]\n",
      "[-0.11566248  0.00403683]\n",
      "Expected centroids :\n",
      "[1 1]\n",
      "[1 1]\n",
      "[1 0]\n",
      "[-1  1]\n",
      "[0 0]\n",
      "[-1  1]\n"
     ]
    }
   ],
   "metadata": {
    "colab": {
     "base_uri": "https://localhost:8080/",
     "height": 1000
    },
    "id": "CusnqsR05t81",
    "outputId": "c1e03f1f-2bc5-45c6-b11e-fb8cc70b7bbd"
   }
  },
  {
   "cell_type": "code",
   "execution_count": null,
   "source": [],
   "outputs": [],
   "metadata": {
    "id": "WedU6Xif5t82"
   }
  },
  {
   "cell_type": "code",
   "execution_count": null,
   "source": [],
   "outputs": [],
   "metadata": {
    "id": "Kzxw9Q7L5t83"
   }
  }
 ],
 "metadata": {
  "colab": {
   "collapsed_sections": [],
   "name": "KmeansClusteringDemo.ipynb",
   "provenance": []
  },
  "interpreter": {
   "hash": "916dbcbb3f70747c44a77c7bcd40155683ae19c65e1c03b4aa3499c5328201f1"
  },
  "kernelspec": {
   "name": "python3",
   "display_name": "Python 3.8.10 64-bit"
  },
  "language_info": {
   "codemirror_mode": {
    "name": "ipython",
    "version": 3
   },
   "file_extension": ".py",
   "mimetype": "text/x-python",
   "name": "python",
   "nbconvert_exporter": "python",
   "pygments_lexer": "ipython3",
   "version": "3.8.10"
  }
 },
 "nbformat": 4,
 "nbformat_minor": 1
}