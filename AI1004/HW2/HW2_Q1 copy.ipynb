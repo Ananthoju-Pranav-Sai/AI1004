{
 "cells": [
  {
   "cell_type": "code",
   "execution_count": 1,
   "source": [
    "#importing required libraries\n",
    "import numpy as np\n",
    "from matplotlib import pyplot as plt\n",
    "import random"
   ],
   "outputs": [],
   "metadata": {}
  },
  {
   "cell_type": "code",
   "execution_count": 2,
   "source": [
    "#defining sigmoid non-linearity and its derivative\n",
    "def sig(x):\n",
    "    return 1/(1+np.exp(-x))\n",
    "def sig_der(y):\n",
    "    return y*(1-y)"
   ],
   "outputs": [],
   "metadata": {}
  },
  {
   "cell_type": "code",
   "execution_count": 3,
   "source": [
    "#function for splitting dataset into training and testing sets\n",
    "def split_data(df,N):\n",
    "    data = []\n",
    "    train = np.empty((0,4),float)\n",
    "    test = np.empty((0,4),float)\n",
    "    for i in range(0,int(N)):\n",
    "        train = np.append(train,np.array([df[i]]),axis=0)\n",
    "    for i in range(int(N),T):\n",
    "        test = np.append(test,np.array([df[i]]),axis=0)\n",
    "    data.append(train)\n",
    "    data.append(test)\n",
    "    return data\n",
    "\n",
    "#function for splitting training dataset into m mini-batches\n",
    "def mini_batches(train_x,train_y,m):\n",
    "    n = int(N/m)\n",
    "    batch=[]\n",
    "    batch_x = []        #contains the features x of the batches\n",
    "    batch_y = []        #contains the labels y of the batches\n",
    "    for i in range(n):\n",
    "        temp = np.empty((0,3),float)\n",
    "        temp1 = np.array([])\n",
    "        for j in range(i*m,(i+1)*m):\n",
    "            temp = np.append(temp,np.array([train_x[j]]),axis=0)\n",
    "            temp1 = np.append(temp1,np.array([train_y[j]]),axis=0)\n",
    "        batch_x.append(temp)\n",
    "        batch_y.append(temp1)\n",
    "    batch.append(batch_x)\n",
    "    batch.append(batch_y)\n",
    "    return batch\n",
    "  \n",
    "#function to calculate mean square error\n",
    "def MSE(y,y_out):\n",
    "    sum=0\n",
    "    e = y-y_out\n",
    "    for i in e:\n",
    "        sum+=i*i\n",
    "    return np.sqrt(sum)/len(y)\n",
    "\n",
    "#function to predict label \n",
    "def predict(x,a1,a2,b):\n",
    "    z1 = sig(np.dot(x,a1))\n",
    "    z2 = sig(np.dot(x,a2))\n",
    "    z = np.array([z1,z2,1])\n",
    "    y_out = sig((np.dot(z,b)))\n",
    "    return y_out"
   ],
   "outputs": [],
   "metadata": {}
  },
  {
   "cell_type": "code",
   "execution_count": 4,
   "source": [
    "#(a) XOR\n",
    "\n",
    "# #Generating samples \n",
    "\n",
    "T = 5000\n",
    "# we will generate data by adding some gaussian noise around (1,1) (1,0) (0,0) (0,1)\n",
    "# Y contains the x1,x2 and the label of (x1,x2)\n",
    "df = np.empty((4,0),float)\n",
    "mean = np.array([[0,0],[0,1],[1,1],[1,0]])\n",
    "cov = np.array([[0.001,0],[0,0.001]])\n",
    "for i in range(4):\n",
    "    temp = np.random.multivariate_normal(mean[i], cov, int(T/4)).T\n",
    "    l = np.empty((int(T/4)),float)\n",
    "    l.fill(mean[i][0]^mean[i][1])\n",
    "    t = np.ones((int(T/4)),float)\n",
    "    temp = np.append(temp,np.array([t]),axis=0)\n",
    "    temp = np.append(temp,np.array([l]),axis=0)\n",
    "    df = np.concatenate((df,temp),axis=1)\n",
    "df = df.T\n",
    "for i in range(T):\n",
    "    if(df[i,3]==1):\n",
    "        plt.plot(df[i,0], df[i,1],'rx')\n",
    "    else:\n",
    "        plt.plot(df[i,0], df[i,1],'bx')\n",
    "plt.show()\n",
    "\n",
    "N = 0.8*T\n",
    "M = 0.2*T\n",
    "\n",
    "#Splitting the dataset into training and testing samples\n",
    "train = split_data(df,N)[0]\n",
    "test = split_data(df,N)[1]\n",
    "\n",
    "#separating features and labels x->features y->labels\n",
    "train_x = np.array([train[:,0],train[:,1],train[:,2]]).T\n",
    "train_y = train[:,3]\n",
    "\n",
    "test_x = np.array([test[:,0],test[:,1],test[:,2]]).T\n",
    "test_y = test[:,3]\n",
    "\n",
    "#Splitting the training data into m 'mini-batches' \n",
    "m = 100\n",
    "n = int(N/m)\n",
    "batches = mini_batches(train_x,train_y,m)\n",
    "batch_x = batches[0]            #this contains features of the individual element in each batch\n",
    "batch_y = batches[1]            #this contains labels of the individual element in each batch\n",
    "\n",
    "#intialising weights and biases\n",
    "a1 = np.random.uniform(low=-10,high=11,size=(3,))\n",
    "a2 = np.random.uniform(low=-10,high=11,size=(3,))\n",
    "b = np.random.uniform(low=-10,high=11,size=(3,))\n",
    "\n",
    "#learning rate\n",
    "g = 0.05"
   ],
   "outputs": [
    {
     "output_type": "display_data",
     "data": {
      "text/plain": [
       "<Figure size 432x288 with 1 Axes>"
      ],
      "image/png": "[encoded data removed]"
     },
     "metadata": {
      "needs_background": "light"
     }
    }
   ],
   "metadata": {}
  },
  {
   "cell_type": "code",
   "execution_count": 5,
   "source": [
    "test_loss=[]\n",
    "train_loss=[]\n",
    "ex=[]\n",
    "epoches=100\n",
    "for e in range(epoches):\n",
    "    for i in range(n):\n",
    "        X = batch_x[i]\n",
    "        Y = batch_y[i]\n",
    "\n",
    "        grad_a1 = np.zeros((3,),float)\n",
    "        grad_a2 = np.zeros((3,),float) \n",
    "        grad_b = np.zeros((3,),float)\n",
    "\n",
    "        grad = []\n",
    "        \n",
    "        for j in range(m):\n",
    "            x = X[j]\n",
    "            y = Y[j]\n",
    "            \n",
    "            z1 = sig(np.dot(a1,x))\n",
    "            z2 = sig(np.dot(a2,x))\n",
    "            z = np.array([z1,z2,1]).T\n",
    "            \n",
    "            y_out = sig((np.dot(b,z)))\n",
    "            d = -2*(y-y_out)*sig_der(y_out)\n",
    "            g1 = d*b[0]*sig_der(z1)\n",
    "            g2 = d*b[0]*sig_der(z2)\n",
    "\n",
    "            grad_b = np.add(grad_b,d*z)\n",
    "            grad_a1 = np.add(grad_a1,g1*x)\n",
    "            grad_a2 = np.add(grad_a2,g2*x)\n",
    "            \n",
    "        b = b-g*grad_b\n",
    "        a1 = a1-g*grad_a1\n",
    "        a2 = a2-g*grad_a2\n",
    "\n",
    "    y_test_out = predict(test_x,a1,a2,b)\n",
    "    y_train_out = predict(train_x,a1,a2,b)\n",
    "    test_loss.append(MSE(test_y,y_test_out))\n",
    "    train_loss.append(MSE(train_y[:],y_train_out))\n",
    "    ex.append(e)\n",
    "    \n",
    "plt.plot(ex,train_loss,'b',label='training loss')\n",
    "plt.plot(ex,test_loss,'r',label='testing loss')\n",
    "plt.title('Training and testing loss v/s epoch')\n",
    "plt.legend()\n",
    "plt.show()"
   ],
   "outputs": [
    {
     "output_type": "stream",
     "name": "stderr",
     "text": [
      "/tmp/ipykernel_21575/3632960028.py:44: VisibleDeprecationWarning: Creating an ndarray from ragged nested sequences (which is a list-or-tuple of lists-or-tuples-or ndarrays with different lengths or shapes) is deprecated. If you meant to do this, you must specify 'dtype=object' when creating the ndarray.\n",
      "  z = np.array([z1,z2,1])\n"
     ]
    },
    {
     "output_type": "display_data",
     "data": {
      "text/plain": [
       "<Figure size 432x288 with 1 Axes>"
      ],
      "image/png": "[encoded data removed]"
     },
     "metadata": {
      "needs_background": "light"
     }
    }
   ],
   "metadata": {}
  },
  {
   "cell_type": "code",
   "execution_count": 6,
   "source": [
    "print(predict(np.array([1,0,1]),a1,a2,b))\n",
    "print(predict(np.array([0,0,1]),a1,a2,b))\n",
    "print(predict(np.array([0,1,1]),a1,a2,b))\n",
    "print(predict(np.array([1,1,1]),a1,a2,b))\n",
    "print(a1)\n",
    "print(a2)\n",
    "print(b)"
   ],
   "outputs": [
    {
     "output_type": "stream",
     "name": "stdout",
     "text": [
      "0.9543223768414735\n",
      "0.019280456788749022\n",
      "0.9890315180141933\n",
      "0.022686818830781972\n",
      "[-7.17699852  8.44788594 -5.9653663 ]\n",
      "[ 7.5921175  -6.88166908 -4.23021283]\n",
      "[ 9.27486237  7.34369061 -4.05824717]\n"
     ]
    }
   ],
   "metadata": {}
  },
  {
   "cell_type": "code",
   "execution_count": 7,
   "source": [
    "#(b) AND\n",
    "\n",
    "# #Generating samples \n",
    "\n",
    "T = 5000\n",
    "# we will generate data by adding some gaussian noise around (1,1) (1,0) (0,0) (0,1)\n",
    "# Y contains the x1,x2 and the label of (x1,x2)\n",
    "df = np.empty((4,0),float)\n",
    "mean = np.array([[0,0],[0,1],[1,1],[1,0]])\n",
    "cov = np.array([[0.001,0],[0,0.001]])\n",
    "for i in range(4):\n",
    "    temp = np.random.multivariate_normal(mean[i], cov, int(T/4)).T\n",
    "    l = np.empty((int(T/4)),float)\n",
    "    l.fill(mean[i][0]&mean[i][1])\n",
    "    t = np.ones((int(T/4)),float)\n",
    "    temp = np.append(temp,np.array([t]),axis=0)\n",
    "    temp = np.append(temp,np.array([l]),axis=0)\n",
    "    df = np.concatenate((df,temp),axis=1)\n",
    "df = df.T\n",
    "\n",
    "for i in range(T):\n",
    "    if(df[i,3]==1):\n",
    "        plt.plot(df[i,0], df[i,1],'rx')\n",
    "    else:\n",
    "        plt.plot(df[i,0], df[i,1],'bx')\n",
    "plt.show()\n",
    "\n",
    "N = 0.8*T\n",
    "M = 0.2*T\n",
    "\n",
    "#Splitting the dataset into training and testing samples\n",
    "train = split_data(df,N)[0]\n",
    "test = split_data(df,N)[1]\n",
    "\n",
    "#separating features and labels x->features y->labels\n",
    "train_x = np.array([train[:,0],train[:,1],train[:,2]]).T\n",
    "train_y = train[:,3]\n",
    "\n",
    "test_x = np.array([test[:,0],test[:,1],test[:,2]]).T\n",
    "test_y = test[:,3]\n",
    "\n",
    "#Splitting the training data into m 'mini-batches' \n",
    "m = 100\n",
    "n = int(N/m)\n",
    "batches = mini_batches(train_x,train_y,m)\n",
    "batch_x = batches[0]            #this contains features of the individual element in each batch\n",
    "batch_y = batches[1]            #this contains labels of the individual element in each batch\n",
    "\n",
    "#intialising weights and biases\n",
    "a1 = np.random.uniform(low=-10,high=11,size=(3,))\n",
    "a2 = np.random.uniform(low=-10,high=11,size=(3,))\n",
    "b = np.random.uniform(low=-10,high=11,size=(3,))\n",
    "\n",
    "#learning rate\n",
    "g = 0.05"
   ],
   "outputs": [
    {
     "output_type": "display_data",
     "data": {
      "text/plain": [
       "<Figure size 432x288 with 1 Axes>"
      ],
      "image/png": "[encoded data removed]"
     },
     "metadata": {
      "needs_background": "light"
     }
    }
   ],
   "metadata": {}
  },
  {
   "cell_type": "code",
   "execution_count": 8,
   "source": [
    "test_loss=[]\n",
    "train_loss=[]\n",
    "ex=[]\n",
    "epoches=100\n",
    "for e in range(epoches):\n",
    "    for i in range(n):\n",
    "        X = batch_x[i]\n",
    "        Y = batch_y[i]\n",
    "\n",
    "        grad_a1 = np.zeros((3,),float)\n",
    "        grad_a2 = np.zeros((3,),float) \n",
    "        grad_b = np.zeros((3,),float)\n",
    "\n",
    "        grad = []\n",
    "        \n",
    "        for j in range(m):\n",
    "            x = X[j]\n",
    "            y = Y[j]\n",
    "            \n",
    "            z1 = sig(np.dot(a1,x))\n",
    "            z2 = sig(np.dot(a2,x))\n",
    "            z = np.array([z1,z2,1]).T\n",
    "            \n",
    "            y_out = sig((np.dot(b,z)))\n",
    "            d = -2*(y-y_out)*sig_der(y_out)\n",
    "            g1 = d*b[0]*sig_der(z1)\n",
    "            g2 = d*b[0]*sig_der(z2)\n",
    "\n",
    "            grad_b = np.add(grad_b,d*z)\n",
    "            grad_a1 = np.add(grad_a1,g1*x)\n",
    "            grad_a2 = np.add(grad_a2,g2*x)\n",
    "            \n",
    "        b = b-g*grad_b\n",
    "        a1 = a1-g*grad_a1\n",
    "        a2 = a2-g*grad_a2\n",
    "\n",
    "    y_test_out = predict(test_x,a1,a2,b)\n",
    "    y_train_out = predict(train_x,a1,a2,b)\n",
    "    test_loss.append(MSE(test_y,y_test_out))\n",
    "    train_loss.append(MSE(train_y[:],y_train_out))\n",
    "    ex.append(e)\n",
    "    \n",
    "plt.plot(ex,train_loss,'b',label='training loss')\n",
    "plt.plot(ex,test_loss,'r',label='testing loss')\n",
    "plt.title('Training and testing loss v/s epoch')\n",
    "plt.legend()\n",
    "plt.show()"
   ],
   "outputs": [
    {
     "output_type": "stream",
     "name": "stderr",
     "text": [
      "/tmp/ipykernel_21575/3632960028.py:44: VisibleDeprecationWarning: Creating an ndarray from ragged nested sequences (which is a list-or-tuple of lists-or-tuples-or ndarrays with different lengths or shapes) is deprecated. If you meant to do this, you must specify 'dtype=object' when creating the ndarray.\n",
      "  z = np.array([z1,z2,1])\n"
     ]
    },
    {
     "output_type": "display_data",
     "data": {
      "text/plain": [
       "<Figure size 432x288 with 1 Axes>"
      ],
      "image/png": "[encoded data removed]"
     },
     "metadata": {
      "needs_background": "light"
     }
    }
   ],
   "metadata": {}
  },
  {
   "cell_type": "code",
   "execution_count": 9,
   "source": [
    "print(predict(np.array([1,0,1]),a1,a2,b))\n",
    "print(predict(np.array([0,0,1]),a1,a2,b))\n",
    "print(predict(np.array([0,1,1]),a1,a2,b))\n",
    "print(predict(np.array([1,1,1]),a1,a2,b))\n",
    "print(a1)\n",
    "print(a2)\n",
    "print(b)"
   ],
   "outputs": [
    {
     "output_type": "stream",
     "name": "stdout",
     "text": [
      "0.029316220214351048\n",
      "0.002895867061967587\n",
      "0.0006480902347365151\n",
      "0.9568515948727704\n",
      "[-4.48913657 -4.58402413  5.55004418]\n",
      "[-10.38217527  10.51456513  -8.21114381]\n",
      "[-9.24140131 -4.41318786  3.36524415]\n"
     ]
    }
   ],
   "metadata": {}
  },
  {
   "cell_type": "code",
   "execution_count": 10,
   "source": [
    "#(c) OR\n",
    "\n",
    "# #Generating samples \n",
    "\n",
    "T = 5000\n",
    "# we will generate data by adding some gaussian noise around (1,1) (1,0) (0,0) (0,1)\n",
    "# Y contains the x1,x2 and the label of (x1,x2)\n",
    "df = np.empty((4,0),float)\n",
    "mean = np.array([[0,0],[0,1],[1,1],[1,0]])\n",
    "cov = np.array([[0.001,0],[0,0.001]])\n",
    "for i in range(4):\n",
    "    temp = np.random.multivariate_normal(mean[i], cov, int(T/4)).T\n",
    "    l = np.empty((int(T/4)),float)\n",
    "    l.fill(mean[i][0]|mean[i][1])\n",
    "    t = np.ones((int(T/4)),float)\n",
    "    temp = np.append(temp,np.array([t]),axis=0)\n",
    "    temp = np.append(temp,np.array([l]),axis=0)\n",
    "    df = np.concatenate((df,temp),axis=1)\n",
    "df = df.T\n",
    "\n",
    "for i in range(T):\n",
    "    if(df[i,3]==1):\n",
    "        plt.plot(df[i,0], df[i,1],'rx')\n",
    "    else:\n",
    "        plt.plot(df[i,0], df[i,1],'bx')\n",
    "plt.show()\n",
    "\n",
    "N = 0.8*T\n",
    "M = 0.2*T\n",
    "\n",
    "#Splitting the dataset into training and testing samples\n",
    "train = split_data(df,N)[0]\n",
    "test = split_data(df,N)[1]\n",
    "\n",
    "#separating features and labels x->features y->labels\n",
    "train_x = np.array([train[:,0],train[:,1],train[:,2]]).T\n",
    "train_y = train[:,3]\n",
    "\n",
    "test_x = np.array([test[:,0],test[:,1],test[:,2]]).T\n",
    "test_y = test[:,3]\n",
    "\n",
    "#Splitting the training data into m 'mini-batches' \n",
    "m = 100\n",
    "n = int(N/m)\n",
    "batches = mini_batches(train_x,train_y,m)\n",
    "batch_x = batches[0]            #this contains features of the individual element in each batch\n",
    "batch_y = batches[1]            #this contains labels of the individual element in each batch\n",
    "\n",
    "#intialising weights and biases\n",
    "a1 = np.random.uniform(low=-10,high=11,size=(3,))\n",
    "a2 = np.random.uniform(low=-10,high=11,size=(3,))\n",
    "b = np.random.uniform(low=-10,high=11,size=(3,))\n",
    "\n",
    "#learning rate\n",
    "g = 0.05"
   ],
   "outputs": [
    {
     "output_type": "display_data",
     "data": {
      "text/plain": [
       "<Figure size 432x288 with 1 Axes>"
      ],
      "image/png": "[encoded data removed]"
     },
     "metadata": {
      "needs_background": "light"
     }
    }
   ],
   "metadata": {}
  },
  {
   "cell_type": "code",
   "execution_count": 11,
   "source": [
    "test_loss=[]\n",
    "train_loss=[]\n",
    "ex=[]\n",
    "epoches=100\n",
    "for e in range(epoches):\n",
    "    for i in range(n):\n",
    "        X = batch_x[i]\n",
    "        Y = batch_y[i]\n",
    "\n",
    "        grad_a1 = np.zeros((3,),float)\n",
    "        grad_a2 = np.zeros((3,),float) \n",
    "        grad_b = np.zeros((3,),float)\n",
    "\n",
    "        grad = []\n",
    "        \n",
    "        for j in range(m):\n",
    "            x = X[j]\n",
    "            y = Y[j]\n",
    "            \n",
    "            z1 = sig(np.dot(a1,x))\n",
    "            z2 = sig(np.dot(a2,x))\n",
    "            z = np.array([z1,z2,1]).T\n",
    "            \n",
    "            y_out = sig((np.dot(b,z)))\n",
    "            d = -2*(y-y_out)*sig_der(y_out)\n",
    "            g1 = d*b[0]*sig_der(z1)\n",
    "            g2 = d*b[0]*sig_der(z2)\n",
    "\n",
    "            grad_b = np.add(grad_b,d*z)\n",
    "            grad_a1 = np.add(grad_a1,g1*x)\n",
    "            grad_a2 = np.add(grad_a2,g2*x)\n",
    "            \n",
    "        b = b-g*grad_b\n",
    "        a1 = a1-g*grad_a1\n",
    "        a2 = a2-g*grad_a2\n",
    "\n",
    "    y_test_out = predict(test_x,a1,a2,b)\n",
    "    y_train_out = predict(train_x,a1,a2,b)\n",
    "    test_loss.append(MSE(test_y,y_test_out))\n",
    "    train_loss.append(MSE(train_y[:],y_train_out))\n",
    "    ex.append(e)\n",
    "    \n",
    "plt.plot(ex,train_loss,'b',label='training loss')\n",
    "plt.plot(ex,test_loss,'r',label='testing loss')\n",
    "plt.title('Training and testing loss v/s epoch')\n",
    "plt.legend()\n",
    "plt.show()"
   ],
   "outputs": [
    {
     "output_type": "stream",
     "name": "stderr",
     "text": [
      "/tmp/ipykernel_21575/3632960028.py:44: VisibleDeprecationWarning: Creating an ndarray from ragged nested sequences (which is a list-or-tuple of lists-or-tuples-or ndarrays with different lengths or shapes) is deprecated. If you meant to do this, you must specify 'dtype=object' when creating the ndarray.\n",
      "  z = np.array([z1,z2,1])\n"
     ]
    },
    {
     "output_type": "display_data",
     "data": {
      "text/plain": [
       "<Figure size 432x288 with 1 Axes>"
      ],
      "image/png": "[encoded data removed]"
     },
     "metadata": {
      "needs_background": "light"
     }
    }
   ],
   "metadata": {}
  },
  {
   "cell_type": "code",
   "execution_count": 12,
   "source": [
    "print(predict(np.array([1,0,1]),a1,a2,b))\n",
    "print(predict(np.array([0,0,1]),a1,a2,b))\n",
    "print(predict(np.array([0,1,1]),a1,a2,b))\n",
    "print(predict(np.array([1,1,1]),a1,a2,b))\n",
    "print(a1)\n",
    "print(a2)\n",
    "print(b)"
   ],
   "outputs": [
    {
     "output_type": "stream",
     "name": "stdout",
     "text": [
      "0.988766965648727\n",
      "0.012271584946744452\n",
      "0.9925177926537233\n",
      "0.9942844826079318\n",
      "[ 7.85482091 -7.34231531 11.76123369]\n",
      "[ 5.98484918  7.00574401 -3.38392709]\n",
      "[ 1.23991498  9.87141819 -5.95182474]\n"
     ]
    }
   ],
   "metadata": {}
  }
 ],
 "metadata": {
  "interpreter": {
   "hash": "916dbcbb3f70747c44a77c7bcd40155683ae19c65e1c03b4aa3499c5328201f1"
  },
  "kernelspec": {
   "name": "python3",
   "display_name": "Python 3.8.10 64-bit"
  },
  "language_info": {
   "codemirror_mode": {
    "name": "ipython",
    "version": 3
   },
   "file_extension": ".py",
   "mimetype": "text/x-python",
   "name": "python",
   "nbconvert_exporter": "python",
   "pygments_lexer": "ipython3",
   "version": "3.8.10"
  }
 },
 "nbformat": 4,
 "nbformat_minor": 2
}