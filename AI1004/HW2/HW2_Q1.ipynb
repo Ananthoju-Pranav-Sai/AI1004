{
 "cells": [
  {
   "cell_type": "code",
   "execution_count": 38,
   "source": [
    "#importing required libraries\n",
    "import numpy as np\n",
    "from matplotlib import pyplot as plt\n",
    "import random"
   ],
   "outputs": [],
   "metadata": {}
  },
  {
   "cell_type": "code",
   "execution_count": 39,
   "source": [
    "#defining sigmoid non-linearity and its derivative\n",
    "def sig(x):\n",
    "    return 1/(1+np.exp(-x))\n",
    "def sig_der(y):\n",
    "    return y*(1-y)"
   ],
   "outputs": [],
   "metadata": {}
  },
  {
   "cell_type": "code",
   "execution_count": 40,
   "source": [
    "#function for splitting dataset into training and testing sets\n",
    "def split_data(df,N):\n",
    "    data = []\n",
    "    train = np.empty((0,4),float)\n",
    "    test = np.empty((0,4),float)\n",
    "    for i in range(0,int(N)):\n",
    "        train = np.append(train,np.array([df[i]]),axis=0)\n",
    "    for i in range(int(N),T):\n",
    "        test = np.append(test,np.array([df[i]]),axis=0)\n",
    "    data.append(train)\n",
    "    data.append(test)\n",
    "    return data\n",
    "\n",
    "#function for splitting training dataset into m mini-batches\n",
    "def mini_batches(train_x,train_y,m):\n",
    "    n = int(N/m)\n",
    "    batch=[]\n",
    "    batch_x = []        #contains the features x of the batches\n",
    "    batch_y = []        #contains the labels y of the batches\n",
    "    for i in range(n):\n",
    "        temp = np.empty((0,3),float)\n",
    "        temp1 = np.array([])\n",
    "        for j in range(i*m,(i+1)*m):\n",
    "            temp = np.append(temp,np.array([train_x[j]]),axis=0)\n",
    "            temp1 = np.append(temp1,np.array([train_y[j]]),axis=0)\n",
    "        batch_x.append(temp)\n",
    "        batch_y.append(temp1)\n",
    "    batch.append(batch_x)\n",
    "    batch.append(batch_y)\n",
    "    return batch\n",
    "  \n",
    "#function to calculate mean square error\n",
    "def MSE(y,y_out):\n",
    "    sum=0\n",
    "    e = y-y_out\n",
    "    for i in e:\n",
    "        sum+=i*i\n",
    "    return (sum)/len(y)\n",
    "\n",
    "#function to predict label \n",
    "def predict(x,a1,a2,b):\n",
    "    z1 = sig(np.dot(x,a1))\n",
    "    z2 = sig(np.dot(x,a2))\n",
    "    z = np.array([z1,z2,1])\n",
    "    y_out = sig((np.dot(z,b)))\n",
    "    return y_out"
   ],
   "outputs": [],
   "metadata": {}
  },
  {
   "cell_type": "code",
   "execution_count": 41,
   "source": [
    "#(a) XOR\n",
    "\n",
    "# #Generating samples \n",
    "\n",
    "T = 2500\n",
    "# we will generate data by adding some gaussian noise around (1,1) (1,0) (0,0) (0,1)\n",
    "\n",
    "# Y contains the x1,x2 and the label of (x1,x2)\n",
    "df = np.empty((4,0),float)\n",
    "mean = np.array([[0,0],[0,1],[1,1],[1,0]])\n",
    "cov = np.array([[0.0001,0],[0,0.0001]])\n",
    "for i in range(4):\n",
    "    temp = np.random.multivariate_normal(mean[i], cov, int(T/4)).T\n",
    "    l = np.empty((int(T/4)),float)\n",
    "    l.fill(mean[i][0]^mean[i][1])\n",
    "    t = np.ones((int(T/4)),float)\n",
    "    temp = np.append(temp,np.array([t]),axis=0)\n",
    "    temp = np.append(temp,np.array([l]),axis=0)\n",
    "    df = np.concatenate((df,temp),axis=1)\n",
    "df = df.T\n",
    "\n",
    "plt.plot(df[:,0], df[:,1],'x')\n",
    "plt.show()\n",
    "\n",
    "N = 0.8*T\n",
    "M = 0.2*T\n",
    "\n",
    "#Splitting the dataset into training and testing samples\n",
    "train = split_data(df,N)[0]\n",
    "test = split_data(df,N)[1]\n",
    "\n",
    "#separating features and labels x->features y->labels\n",
    "train_x = np.array([train[:,0],train[:,1],train[:,2]]).T\n",
    "train_y = train[:,3]\n",
    "\n",
    "test_x = np.array([test[:,0],test[:,1],test[:,2]]).T\n",
    "test_y = test[:,3]\n",
    "\n",
    "#Splitting the training data into m 'mini-batches' \n",
    "m = 100\n",
    "n = int(N/m)\n",
    "batches = mini_batches(train_x,train_y,m)\n",
    "batch_x = batches[0]            #this contains features of the individual element in each batch\n",
    "batch_y = batches[1]            #this contains labels of the individual element in each batch\n",
    "\n",
    "#intialising weights and biases\n",
    "a1 = np.random.uniform(low=-10,high=11,size=(3,))\n",
    "a2 = np.random.uniform(low=-10,high=11,size=(3,))\n",
    "b = np.random.uniform(low=-10,high=11,size=(3,))\n",
    "\n",
    "#learning rate\n",
    "g = 0.05"
   ],
   "outputs": [
    {
     "output_type": "display_data",
     "data": {
      "text/plain": [
       "<Figure size 432x288 with 1 Axes>"
      ],
      "image/png": "[encoded data removed]"
     },
     "metadata": {
      "needs_background": "light"
     }
    }
   ],
   "metadata": {}
  },
  {
   "cell_type": "code",
   "execution_count": 42,
   "source": [
    "test_loss=[]\n",
    "train_loss=[]\n",
    "ex=[]\n",
    "epoches=100\n",
    "for e in range(epoches):\n",
    "    for i in range(n):\n",
    "        X = batch_x[i]\n",
    "        Y = batch_y[i]\n",
    "\n",
    "        grad_a1 = np.zeros((3,),float)\n",
    "        grad_a2 = np.zeros((3,),float) \n",
    "        grad_b = np.zeros((3,),float)\n",
    "\n",
    "        grad = []\n",
    "        \n",
    "        for j in range(m):\n",
    "            x = X[j]\n",
    "            y = Y[j]\n",
    "            \n",
    "            z1 = sig(np.dot(a1,x))\n",
    "            z2 = sig(np.dot(a2,x))\n",
    "            z = np.array([z1,z2,1]).T\n",
    "            \n",
    "            y_out = sig((np.dot(b,z)))\n",
    "            d = -2*(y-y_out)*sig_der(y_out)\n",
    "            g1 = d*b[0]*sig_der(z1)\n",
    "            g2 = d*b[0]*sig_der(z2)\n",
    "\n",
    "            grad_b = np.add(grad_b,d*z)\n",
    "            grad_a1 = np.add(grad_a1,g1*x)\n",
    "            grad_a2 = np.add(grad_a2,g2*x)\n",
    "            \n",
    "        b = b-g*grad_b\n",
    "        a1 = a1-g*grad_a1\n",
    "        a2 = a2-g*grad_a2\n",
    "\n",
    "    y_test_out = predict(test_x,a1,a2,b)\n",
    "    y_train_out = predict(train_x,a1,a2,b)\n",
    "    test_loss.append(MSE(test_y,y_test_out))\n",
    "    train_loss.append(MSE(train_y[:],y_train_out))\n",
    "    ex.append(e)\n",
    "    \n",
    "plt.plot(ex,train_loss,'b',label='training loss')\n",
    "plt.plot(ex,test_loss,'r',label='testing loss')\n",
    "plt.title('Training and testing loss v/s epoch')\n",
    "plt.legend()\n",
    "plt.show()"
   ],
   "outputs": [
    {
     "output_type": "stream",
     "name": "stderr",
     "text": [
      "/tmp/ipykernel_11443/3685860136.py:44: VisibleDeprecationWarning: Creating an ndarray from ragged nested sequences (which is a list-or-tuple of lists-or-tuples-or ndarrays with different lengths or shapes) is deprecated. If you meant to do this, you must specify 'dtype=object' when creating the ndarray.\n",
      "  z = np.array([z1,z2,1])\n"
     ]
    },
    {
     "output_type": "display_data",
     "data": {
      "text/plain": [
       "<Figure size 432x288 with 1 Axes>"
      ],
      "image/png": "[encoded data removed]"
     },
     "metadata": {
      "needs_background": "light"
     }
    }
   ],
   "metadata": {}
  },
  {
   "cell_type": "code",
   "execution_count": 43,
   "source": [
    "print(predict(np.array([1,0,1]),a1,a2,b))\n",
    "print(predict(np.array([0,0,1]),a1,a2,b))\n",
    "print(predict(np.array([0,1,1]),a1,a2,b))\n",
    "print(predict(np.array([1,1,1]),a1,a2,b))\n",
    "print(a1)\n",
    "print(a2)\n",
    "print(b)"
   ],
   "outputs": [
    {
     "output_type": "stream",
     "name": "stdout",
     "text": [
      "0.9554613931487133\n",
      "0.0193553703777443\n",
      "0.9804731252747683\n",
      "0.01613312314319648\n",
      "[-5.95617971  5.85832953  3.05019557]\n",
      "[10.484579   -7.70213318  3.56591599]\n",
      "[-8.00366683 -8.57280376 12.05369341]\n"
     ]
    }
   ],
   "metadata": {}
  },
  {
   "cell_type": "code",
   "execution_count": 44,
   "source": [
    "#(b) AND\n",
    "\n",
    "# #Generating samples \n",
    "\n",
    "T = 2500\n",
    "# we will generate data by adding some gaussian noise around (1,1) (1,0) (0,0) (0,1)df = np.empty((0,4),float)\n",
    "train = np.empty((4,0),float)\n",
    "test = np.empty((4,0),float)\n",
    "\n",
    "# Y contains the x1,x2 and the label of (x1,x2)\n",
    "df = np.empty((4,0),float)\n",
    "mean = np.array([[0,0],[0,1],[1,1],[1,0]])\n",
    "cov = np.array([[0.0001,0],[0,0.0001]])\n",
    "for i in range(4):\n",
    "    temp = np.random.multivariate_normal(mean[i], cov, int(T/4)).T\n",
    "    l = np.empty((int(T/4)),float)\n",
    "    l.fill(mean[i][0]&mean[i][1])\n",
    "    t = np.ones((int(T/4)),float)\n",
    "    temp = np.append(temp,np.array([t]),axis=0)\n",
    "    temp = np.append(temp,np.array([l]),axis=0)\n",
    "    df = np.concatenate((df,temp),axis=1)\n",
    "df = df.T\n",
    "\n",
    "plt.plot(df[:,0], df[:,1],'x')\n",
    "plt.show()\n",
    "\n",
    "N = 0.8*T\n",
    "M = 0.2*T\n",
    "\n",
    "#Splitting the dataset into training and testing samples\n",
    "train = split_data(df,N)[0]\n",
    "test = split_data(df,N)[1]\n",
    "\n",
    "#separating features and labels x->features y->labels\n",
    "train_x = np.array([train[:,0],train[:,1],train[:,2]]).T\n",
    "train_y = train[:,3]\n",
    "\n",
    "test_x = np.array([test[:,0],test[:,1],test[:,2]]).T\n",
    "test_y = test[:,3]\n",
    "\n",
    "#Splitting the training data into m 'mini-batches' \n",
    "m = 100\n",
    "n = int(N/m)\n",
    "batches = mini_batches(train_x,train_y,m)\n",
    "batch_x = batches[0]            #this contains features of the individual element in each batch\n",
    "batch_y = batches[1]            #this contains labels of the individual element in each batch\n",
    "\n",
    "#intialising weights and biases\n",
    "a1 = np.random.uniform(low=-10,high=11,size=(3,))\n",
    "a2 = np.random.uniform(low=-10,high=11,size=(3,))\n",
    "b = np.random.uniform(low=-10,high=11,size=(3,))\n",
    "\n",
    "#learning rate\n",
    "g = 0.05"
   ],
   "outputs": [
    {
     "output_type": "display_data",
     "data": {
      "text/plain": [
       "<Figure size 432x288 with 1 Axes>"
      ],
      "image/png": "[encoded data removed]"
     },
     "metadata": {
      "needs_background": "light"
     }
    }
   ],
   "metadata": {}
  },
  {
   "cell_type": "code",
   "execution_count": 45,
   "source": [
    "test_loss=[]\n",
    "train_loss=[]\n",
    "ex=[]\n",
    "epoches=100\n",
    "for e in range(epoches):\n",
    "    for i in range(n):\n",
    "        X = batch_x[i]\n",
    "        Y = batch_y[i]\n",
    "\n",
    "        grad_a1 = np.zeros((3,),float)\n",
    "        grad_a2 = np.zeros((3,),float) \n",
    "        grad_b = np.zeros((3,),float)\n",
    "\n",
    "        grad = []\n",
    "        \n",
    "        for j in range(m):\n",
    "            x = X[j]\n",
    "            y = Y[j]\n",
    "            \n",
    "            z1 = sig(np.dot(a1,x))\n",
    "            z2 = sig(np.dot(a2,x))\n",
    "            z = np.array([z1,z2,1]).T\n",
    "            \n",
    "            y_out = sig((np.dot(b,z)))\n",
    "            d = -2*(y-y_out)*sig_der(y_out)\n",
    "            g1 = d*b[0]*sig_der(z1)\n",
    "            g2 = d*b[0]*sig_der(z2)\n",
    "\n",
    "            grad_b = np.add(grad_b,d*z)\n",
    "            grad_a1 = np.add(grad_a1,g1*x)\n",
    "            grad_a2 = np.add(grad_a2,g2*x)\n",
    "            \n",
    "        b = b-g*grad_b\n",
    "        a1 = a1-g*grad_a1\n",
    "        a2 = a2-g*grad_a2\n",
    "\n",
    "    y_test_out = predict(test_x,a1,a2,b)\n",
    "    y_train_out = predict(train_x,a1,a2,b)\n",
    "    test_loss.append(MSE(test_y,y_test_out))\n",
    "    train_loss.append(MSE(train_y[:],y_train_out))\n",
    "    ex.append(e)\n",
    "    \n",
    "plt.plot(ex,train_loss,'b',label='training loss')\n",
    "plt.plot(ex,test_loss,'r',label='testing loss')\n",
    "plt.title('Training and testing loss v/s epoch')\n",
    "plt.legend()\n",
    "plt.show()"
   ],
   "outputs": [
    {
     "output_type": "stream",
     "name": "stderr",
     "text": [
      "/tmp/ipykernel_11443/3685860136.py:44: VisibleDeprecationWarning: Creating an ndarray from ragged nested sequences (which is a list-or-tuple of lists-or-tuples-or ndarrays with different lengths or shapes) is deprecated. If you meant to do this, you must specify 'dtype=object' when creating the ndarray.\n",
      "  z = np.array([z1,z2,1])\n"
     ]
    },
    {
     "output_type": "display_data",
     "data": {
      "text/plain": [
       "<Figure size 432x288 with 1 Axes>"
      ],
      "image/png": "[encoded data removed]"
     },
     "metadata": {
      "needs_background": "light"
     }
    }
   ],
   "metadata": {}
  },
  {
   "cell_type": "code",
   "execution_count": 46,
   "source": [
    "print(predict(np.array([1,0,1]),a1,a2,b))\n",
    "print(predict(np.array([0,0,1]),a1,a2,b))\n",
    "print(predict(np.array([0,1,1]),a1,a2,b))\n",
    "print(predict(np.array([1,1,1]),a1,a2,b))\n",
    "print(a1)\n",
    "print(a2)\n",
    "print(b)"
   ],
   "outputs": [
    {
     "output_type": "stream",
     "name": "stdout",
     "text": [
      "9.746574439022596e-06\n",
      "0.002078013843255434\n",
      "0.031930607847250214\n",
      "0.0010155841680653545\n",
      "[-9.86590221 -0.7813732  -5.66599316]\n",
      "[-2.05439497  1.77633402  0.79050946]\n",
      "[ -0.21046704  11.47272729 -14.06609265]\n"
     ]
    }
   ],
   "metadata": {}
  },
  {
   "cell_type": "code",
   "execution_count": 47,
   "source": [
    "#(c) OR\n",
    "\n",
    "# #Generating samples \n",
    "\n",
    "T = 2500\n",
    "# we will generate data by adding some gaussian noise around (1,1) (1,0) (0,0) (0,1)\n",
    "\n",
    "df = np.empty((0,4),float)\n",
    "train = np.empty((4,0),float)\n",
    "test = np.empty((4,0),float)\n",
    "\n",
    "# Y contains the x1,x2 and the label of (x1,x2)\n",
    "df = np.empty((4,0),float)\n",
    "mean = np.array([[0,0],[0,1],[1,1],[1,0]])\n",
    "cov = np.array([[0.0001,0],[0,0.0001]])\n",
    "for i in range(4):\n",
    "    temp = np.random.multivariate_normal(mean[i], cov, int(T/4)).T\n",
    "    l = np.empty((int(T/4)),float)\n",
    "    l.fill(mean[i][0]|mean[i][1])\n",
    "    t = np.ones((int(T/4)),float)\n",
    "    temp = np.append(temp,np.array([t]),axis=0)\n",
    "    temp = np.append(temp,np.array([l]),axis=0)\n",
    "    df = np.concatenate((df,temp),axis=1)\n",
    "df = df.T\n",
    "\n",
    "plt.plot(df[:,0], df[:,1],'x')\n",
    "plt.show()\n",
    "\n",
    "N = 0.8*T\n",
    "M = 0.2*T\n",
    "\n",
    "#Splitting the dataset into training and testing samples\n",
    "train = split_data(df,N)[0]\n",
    "test = split_data(df,N)[1]\n",
    "\n",
    "#separating features and labels x->features y->labels\n",
    "train_x = np.array([train[:,0],train[:,1],train[:,2]]).T\n",
    "train_y = train[:,3]\n",
    "\n",
    "test_x = np.array([test[:,0],test[:,1],test[:,2]]).T\n",
    "test_y = test[:,3]\n",
    "\n",
    "#Splitting the training data into m 'mini-batches' \n",
    "m = 100\n",
    "n = int(N/m)\n",
    "batches = mini_batches(train_x,train_y,m)\n",
    "batch_x = batches[0]            #this contains features of the individual element in each batch\n",
    "batch_y = batches[1]            #this contains labels of the individual element in each batch\n",
    "\n",
    "#intialising weights and biases\n",
    "a1 = np.random.uniform(low=-10,high=11,size=(3,))\n",
    "a2 = np.random.uniform(low=-10,high=11,size=(3,))\n",
    "b = np.random.uniform(low=-10,high=11,size=(3,))\n",
    "\n",
    "#learning rate\n",
    "g = 0.05"
   ],
   "outputs": [
    {
     "output_type": "display_data",
     "data": {
      "text/plain": [
       "<Figure size 432x288 with 1 Axes>"
      ],
      "image/png": "[encoded data removed]"
     },
     "metadata": {
      "needs_background": "light"
     }
    }
   ],
   "metadata": {}
  },
  {
   "cell_type": "code",
   "execution_count": 48,
   "source": [
    "test_loss=[]\n",
    "train_loss=[]\n",
    "ex=[]\n",
    "epoches=100\n",
    "for e in range(epoches):\n",
    "    for i in range(n):\n",
    "        X = batch_x[i]\n",
    "        Y = batch_y[i]\n",
    "\n",
    "        grad_a1 = np.zeros((3,),float)\n",
    "        grad_a2 = np.zeros((3,),float) \n",
    "        grad_b = np.zeros((3,),float)\n",
    "\n",
    "        grad = []\n",
    "        \n",
    "        for j in range(m):\n",
    "            x = X[j]\n",
    "            y = Y[j]\n",
    "            \n",
    "            z1 = sig(np.dot(a1,x))\n",
    "            z2 = sig(np.dot(a2,x))\n",
    "            z = np.array([z1,z2,1]).T\n",
    "            \n",
    "            y_out = sig((np.dot(b,z)))\n",
    "            d = -2*(y-y_out)*sig_der(y_out)\n",
    "            g1 = d*b[0]*sig_der(z1)\n",
    "            g2 = d*b[0]*sig_der(z2)\n",
    "\n",
    "            grad_b = np.add(grad_b,d*z)\n",
    "            grad_a1 = np.add(grad_a1,g1*x)\n",
    "            grad_a2 = np.add(grad_a2,g2*x)\n",
    "            \n",
    "        b = b-g*grad_b\n",
    "        a1 = a1-g*grad_a1\n",
    "        a2 = a2-g*grad_a2\n",
    "\n",
    "    y_test_out = predict(test_x,a1,a2,b)\n",
    "    y_train_out = predict(train_x,a1,a2,b)\n",
    "    test_loss.append(MSE(test_y,y_test_out))\n",
    "    train_loss.append(MSE(train_y[:],y_train_out))\n",
    "    ex.append(e)\n",
    "    \n",
    "plt.plot(ex,train_loss,'b',label='training loss')\n",
    "plt.plot(ex,test_loss,'r',label='testing loss')\n",
    "plt.title('Training and testing loss v/s epoch')\n",
    "plt.legend()\n",
    "plt.show()"
   ],
   "outputs": [
    {
     "output_type": "stream",
     "name": "stderr",
     "text": [
      "/tmp/ipykernel_11443/3685860136.py:44: VisibleDeprecationWarning: Creating an ndarray from ragged nested sequences (which is a list-or-tuple of lists-or-tuples-or ndarrays with different lengths or shapes) is deprecated. If you meant to do this, you must specify 'dtype=object' when creating the ndarray.\n",
      "  z = np.array([z1,z2,1])\n"
     ]
    },
    {
     "output_type": "display_data",
     "data": {
      "text/plain": [
       "<Figure size 432x288 with 1 Axes>"
      ],
      "image/png": "[encoded data removed]"
     },
     "metadata": {
      "needs_background": "light"
     }
    }
   ],
   "metadata": {}
  },
  {
   "cell_type": "code",
   "execution_count": 49,
   "source": [
    "print(predict(np.array([1,0,1]),a1,a2,b))\n",
    "print(predict(np.array([0,0,1]),a1,a2,b))\n",
    "print(predict(np.array([0,1,1]),a1,a2,b))\n",
    "print(predict(np.array([1,1,1]),a1,a2,b))\n",
    "print(a1)\n",
    "print(a2)\n",
    "print(b)"
   ],
   "outputs": [
    {
     "output_type": "stream",
     "name": "stdout",
     "text": [
      "0.9999928427653002\n",
      "0.9999928055734508\n",
      "0.9999928012548518\n",
      "0.9999928441899695\n",
      "[ 0.31229192  9.32502706 10.42756405]\n",
      "[-5.30523401  0.15811028 -6.6694262 ]\n",
      "[ 9.39201307 -4.0503785   2.45559563]\n"
     ]
    }
   ],
   "metadata": {}
  }
 ],
 "metadata": {
  "interpreter": {
   "hash": "916dbcbb3f70747c44a77c7bcd40155683ae19c65e1c03b4aa3499c5328201f1"
  },
  "kernelspec": {
   "name": "python3",
   "display_name": "Python 3.8.10 64-bit"
  },
  "language_info": {
   "codemirror_mode": {
    "name": "ipython",
    "version": 3
   },
   "file_extension": ".py",
   "mimetype": "text/x-python",
   "name": "python",
   "nbconvert_exporter": "python",
   "pygments_lexer": "ipython3",
   "version": "3.8.10"
  }
 },
 "nbformat": 4,
 "nbformat_minor": 2
}